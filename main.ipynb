{
 "cells": [
  {
   "cell_type": "code",
   "execution_count": 154,
   "metadata": {},
   "outputs": [],
   "source": [
    "import re\n",
    "import os\n",
    "import math"
   ]
  },
  {
   "cell_type": "code",
   "execution_count": 155,
   "metadata": {},
   "outputs": [],
   "source": [
    "# global variables\n",
    "wordList = set()\n",
    "tf = {}"
   ]
  },
  {
   "cell_type": "code",
   "execution_count": 156,
   "metadata": {},
   "outputs": [],
   "source": [
    "# extracting sentences from a given file\n",
    "def getSent(articleName, directory):\n",
    "    articleName = directory + '/' + articleName\n",
    "    f = open(articleName).read()\n",
    "    sentences = f.split('।')\n",
    "    return sentences"
   ]
  },
  {
   "cell_type": "code",
   "execution_count": 157,
   "metadata": {},
   "outputs": [],
   "source": [
    "# cleaning sentences (basic regex for now)\n",
    "def cleanSent(unclean):\n",
    "    clean = []\n",
    "    for sent in unclean:\n",
    "        sent = re.sub('\\\\n', '', sent)\n",
    "        sent = re.sub('[a-zA-z]', '', sent)\n",
    "        sent = sent.strip()\n",
    "        if len(sent) != 0:\n",
    "            clean.append(sent)\n",
    "    return clean"
   ]
  },
  {
   "cell_type": "code",
   "execution_count": 158,
   "metadata": {},
   "outputs": [],
   "source": [
    "# creating a word list idk why\n",
    "def appendWords(clean):\n",
    "    global wordList\n",
    "    for sent in clean:\n",
    "        words = sent.split(' ')\n",
    "        for word in words:\n",
    "            if word not in wordList:\n",
    "                wordList.add(word)     \n",
    "    return "
   ]
  },
  {
   "cell_type": "code",
   "execution_count": 159,
   "metadata": {},
   "outputs": [],
   "source": [
    "# calculating tf of all words\n",
    "def prepTF(clean, doc):\n",
    "    global tf\n",
    "    for sent in clean:\n",
    "        words = sent.split(' ')\n",
    "        for word in words:\n",
    "            if (word, doc) in tf:\n",
    "                tf[(word, doc)] += 1\n",
    "            else:\n",
    "                tf[(word, doc)] = 1\n",
    "    return "
   ]
  },
  {
   "cell_type": "code",
   "execution_count": 160,
   "metadata": {},
   "outputs": [],
   "source": [
    "# repeating process for each article to get tf \n",
    "def eachArticle(directory):\n",
    "    documents = os.listdir(directory)\n",
    "    sorted(documents)\n",
    "    x = 0\n",
    "    for doc in documents:\n",
    "        unclean = getSent(doc, directory)\n",
    "        clean = cleanSent(unclean)\n",
    "        appendWords(clean)\n",
    "        prepTF(clean, doc)"
   ]
  },
  {
   "cell_type": "code",
   "execution_count": 161,
   "metadata": {},
   "outputs": [],
   "source": [
    "eachArticle('valid')"
   ]
  },
  {
   "cell_type": "code",
   "execution_count": 164,
   "metadata": {},
   "outputs": [],
   "source": [
    "# calculating tfidf for a particular article\n",
    "def oneArticle(articleName, directory):\n",
    "    global tf\n",
    "    df = {}\n",
    "    unclean = getSent(articleName, directory)\n",
    "    clean = cleanSent(unclean)\n",
    "    documents = os.listdir(directory)\n",
    "    for sent in clean:\n",
    "        words = sent.split(' ')\n",
    "        for word in words:\n",
    "            if word in df:\n",
    "                continue\n",
    "            for doc in documents:\n",
    "                if (word, doc) in tf:\n",
    "                    if word in df:\n",
    "                        df[word] += 1\n",
    "                    else:\n",
    "                        df[word] = 1\n",
    "    idf = {}\n",
    "    for word in df:\n",
    "        if word not in idf:\n",
    "            idf[word] = math.log(len(documents)/(df[word] + 1))\n",
    "    \n",
    "    tfidf = {}\n",
    "    for word in idf:\n",
    "        if word not in tfidf:\n",
    "            tfidf[word] = tf[(word, articleName)] * idf[word]\n",
    "    \n",
    "    return tfidf"
   ]
  },
  {
   "cell_type": "code",
   "execution_count": 165,
   "metadata": {},
   "outputs": [],
   "source": [
    "tfidf = oneArticle('39.txt', 'valid')"
   ]
  },
  {
   "cell_type": "code",
   "execution_count": 166,
   "metadata": {},
   "outputs": [],
   "source": [
    "sorted_words = sorted(tfidf, key=tfidf.get, reverse=True)"
   ]
  },
  {
   "cell_type": "code",
   "execution_count": 188,
   "metadata": {},
   "outputs": [],
   "source": [
    "# final summary according to sorted words\n",
    "def getSummary(articleName, directory, sorted_words):\n",
    "    unclean = getSent(articleName, directory)\n",
    "    clean = cleanSent(unclean)\n",
    "    w = []\n",
    "    for i in range(0, 3):\n",
    "        w.append(sorted_words[i])\n",
    "    print(w)\n",
    "    summary = []\n",
    "    for mainWord in w:    \n",
    "        for sent in clean:\n",
    "            words = sent.split(' ')\n",
    "            found = False\n",
    "            for word in words:\n",
    "                if word == mainWord:\n",
    "                    if sent not in summary:\n",
    "                        summary.append(sent)\n",
    "                        found = True\n",
    "                        break\n",
    "            if found:\n",
    "                break\n",
    "    \n",
    "    final = \"\"\n",
    "    for i in summary:\n",
    "        final += i + '। '\n",
    "        \n",
    "    compare = \"\"\n",
    "    for i in clean:\n",
    "        compare += i + '। '\n",
    "    return final, compare"
   ]
  },
  {
   "cell_type": "code",
   "execution_count": 189,
   "metadata": {},
   "outputs": [
    {
     "name": "stdout",
     "output_type": "stream",
     "text": [
      "['सैलिक', 'क़ानून', 'फ़्रैंकी']\n",
      "सैलिक क़ानून मध्यकालीन यूरोप के फ़्रैंक लोगों की न्यायिक व्यवस्था थी। इसकी धाराओं को लातीनी भाषा में लिखित रूप में दर्ज किया गया था और फ़्रैंकी नरेश ने इसके रखरखाव के लिए एक समिति नियुक्त की हुई थी। इस क़ानून की 8वीं सदी ईसवी में बनी कई पांडुलिपियाँ मिली हैं और 9वीं सदी के अन्त तक के कुछ बदलावों वाले संस्करण भी मिलते हैं। एक 6ठी शताब्दी की प्रति भी मिली है लेकिन इसके सच्चे होने की पूर्ण पुष्टि अभी इतिहासकारों ने नहीं की है, इसलिए सम्भव है कि यह जाली हो या इसे समझने में कोई ग़लती हुई हो। इस बात पर सर्वसहमति है कि फ़्रैंकी क्षेत्रों में सैलिक क़ानून 6ठी सदी से लागू हो चुका था और इसका पहला प्रकाशन 507 से 511 ईसवी के बीच हुआ। सैलिक न्याय-व्यवस्था में पैतृक धन-अधिकार जैसे नागरिक क़ानून और हत्या जैसे अपराधों से सम्बन्धित दंड विधि दोनों के सम्बन्ध मे धाराएँ मौजूद हैं। आधुनिक काल में मध्य यूरोप में जर्मनी, फ़्रान्स, बेलजियम, ऑस्ट्रीया, हंगरी और नेदेरलैंड्ज़ जैसे कई देशों के क़ानूनों पर सैलिक क़ानून का प्रभाव मिलता है। \n",
      "\n",
      "\n",
      "सैलिक क़ानून मध्यकालीन यूरोप के फ़्रैंक लोगों की न्यायिक व्यवस्था थी। इस क़ानून की 8वीं सदी ईसवी में बनी कई पांडुलिपियाँ मिली हैं और 9वीं सदी के अन्त तक के कुछ बदलावों वाले संस्करण भी मिलते हैं। इसकी धाराओं को लातीनी भाषा में लिखित रूप में दर्ज किया गया था और फ़्रैंकी नरेश ने इसके रखरखाव के लिए एक समिति नियुक्त की हुई थी। \n"
     ]
    }
   ],
   "source": [
    "final, compare = getSummary('39.txt', 'valid', sorted_words)\n",
    "print(compare)\n",
    "print(\"\\n\")\n",
    "print(final)"
   ]
  },
  {
   "cell_type": "code",
   "execution_count": null,
   "metadata": {},
   "outputs": [],
   "source": []
  }
 ],
 "metadata": {
  "kernelspec": {
   "display_name": "Python 3",
   "language": "python",
   "name": "python3"
  },
  "language_info": {
   "codemirror_mode": {
    "name": "ipython",
    "version": 3
   },
   "file_extension": ".py",
   "mimetype": "text/x-python",
   "name": "python",
   "nbconvert_exporter": "python",
   "pygments_lexer": "ipython3",
   "version": "3.6.9"
  }
 },
 "nbformat": 4,
 "nbformat_minor": 4
}
