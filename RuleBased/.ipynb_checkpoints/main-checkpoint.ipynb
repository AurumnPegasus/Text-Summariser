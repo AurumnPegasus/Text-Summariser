{
 "cells": [
  {
   "cell_type": "code",
   "execution_count": 63,
   "metadata": {},
   "outputs": [],
   "source": [
    "import re\n",
    "import os\n",
    "import math"
   ]
  },
  {
   "cell_type": "code",
   "execution_count": 64,
   "metadata": {},
   "outputs": [
    {
     "name": "stdout",
     "output_type": "stream",
     "text": [
      "Enter the article name1717.txt\n"
     ]
    }
   ],
   "source": [
    "# global variables\n",
    "tf = {}\n",
    "article = input(\"Enter the article name\")"
   ]
  },
  {
   "cell_type": "code",
   "execution_count": 65,
   "metadata": {},
   "outputs": [],
   "source": [
    "# extracting sentences from a given file\n",
    "def getSent(articleName, directory):\n",
    "    articleName = directory + '/' + articleName\n",
    "    f = open(articleName).read()\n",
    "    sentences = f.split('।')\n",
    "    return sentences"
   ]
  },
  {
   "cell_type": "code",
   "execution_count": 66,
   "metadata": {},
   "outputs": [],
   "source": [
    "# cleaning sentences (basic regex for now)\n",
    "def cleanSent(unclean):\n",
    "    clean = []\n",
    "    for sent in unclean:\n",
    "        sent = re.sub('\\\\n', '', sent)\n",
    "        sent = re.sub('[a-zA-z]', '', sent)\n",
    "        sent = sent.strip()\n",
    "        if len(sent) != 0:\n",
    "            clean.append(sent)\n",
    "    return clean"
   ]
  },
  {
   "cell_type": "code",
   "execution_count": 67,
   "metadata": {},
   "outputs": [],
   "source": [
    "# calculating tf of all words\n",
    "def prepTF(clean, doc):\n",
    "    global tf\n",
    "    for sent in clean:\n",
    "        words = sent.split(' ')\n",
    "        for word in words:\n",
    "            if (word, doc) in tf:\n",
    "                tf[(word, doc)] += 1\n",
    "            else:\n",
    "                tf[(word, doc)] = 1\n",
    "    return "
   ]
  },
  {
   "cell_type": "code",
   "execution_count": 68,
   "metadata": {},
   "outputs": [],
   "source": [
    "# repeating process for each article to get tf \n",
    "def eachArticle(directory):\n",
    "    documents = os.listdir(directory)\n",
    "    sorted(documents)\n",
    "    x = 0\n",
    "    for doc in documents:\n",
    "        unclean = getSent(doc, directory)\n",
    "        clean = cleanSent(unclean)\n",
    "        prepTF(clean, doc)"
   ]
  },
  {
   "cell_type": "code",
   "execution_count": 69,
   "metadata": {},
   "outputs": [],
   "source": [
    "eachArticle('valid')"
   ]
  },
  {
   "cell_type": "code",
   "execution_count": 70,
   "metadata": {},
   "outputs": [],
   "source": [
    "# calculating tfidf for a particular article\n",
    "def oneArticle(articleName, directory):\n",
    "    global tf\n",
    "    df = {}\n",
    "    unclean = getSent(articleName, directory)\n",
    "    clean = cleanSent(unclean)\n",
    "    documents = os.listdir(directory)\n",
    "    for sent in clean:\n",
    "        words = sent.split(' ')\n",
    "        for word in words:\n",
    "            if word in df:\n",
    "                continue\n",
    "            for doc in documents:\n",
    "                if (word, doc) in tf:\n",
    "                    if word in df:\n",
    "                        df[word] += 1\n",
    "                    else:\n",
    "                        df[word] = 1\n",
    "    idf = {}\n",
    "    for word in df:\n",
    "        if word not in idf:\n",
    "            idf[word] = math.log(len(documents)/(df[word] + 1))\n",
    "    \n",
    "    tfidf = {}\n",
    "    for word in idf:\n",
    "        if word not in tfidf:\n",
    "            tfidf[word] = tf[(word, articleName)] * idf[word]\n",
    "    \n",
    "    return tfidf"
   ]
  },
  {
   "cell_type": "code",
   "execution_count": 71,
   "metadata": {},
   "outputs": [],
   "source": [
    "tfidf = oneArticle(article, 'valid')"
   ]
  },
  {
   "cell_type": "code",
   "execution_count": 72,
   "metadata": {},
   "outputs": [],
   "source": [
    "sorted_words = sorted(tfidf, key=tfidf.get, reverse=True)"
   ]
  },
  {
   "cell_type": "code",
   "execution_count": 81,
   "metadata": {},
   "outputs": [],
   "source": [
    "# final summary according to sorted words\n",
    "def getSummary(articleName, directory, sorted_words):\n",
    "    unclean = getSent(articleName, directory)\n",
    "    clean = cleanSent(unclean)\n",
    "    size = 0.3 * len(clean)\n",
    "    summary = []\n",
    "    for mainWord in sorted_words:    \n",
    "        if len(summary) == int(round(size)):\n",
    "            break\n",
    "        for sentI in range(0, len(clean)):\n",
    "            sent = clean[sentI]\n",
    "            words = sent.split(' ')\n",
    "            found = False\n",
    "            for word in words:\n",
    "                if word == mainWord:\n",
    "                    if (sent, sentI) not in summary:\n",
    "                        summary.append((sent, sentI))\n",
    "                        found = True\n",
    "                        break\n",
    "            if found:\n",
    "                break\n",
    "    \n",
    "    final = \"\"\n",
    "    summary.sort(key=lambda x:x[1])\n",
    "    for i in summary:\n",
    "        final += i[0] + '। '\n",
    "        \n",
    "    compare = \"\"\n",
    "    for i in clean:\n",
    "        compare += i + '। '\n",
    "    return final, compare"
   ]
  },
  {
   "cell_type": "code",
   "execution_count": 82,
   "metadata": {},
   "outputs": [
    {
     "name": "stdout",
     "output_type": "stream",
     "text": [
      "हेमाद्रि पण्डित देवगिरि के यादव राजा महादेव एवं राजा रामचन्द्र के प्रधानमंत्री थे। वे एक कुशल प्रशासक, वास्तुकार, कवि और आध्यात्मविद थे। हेमाद्रिपंत के प्रधानमंत्रीत्व में यादवकुल का सूर्य अपने चरम पर था। तेरहवी शताब्दी में कर्नाटक के दक्षिण कन्नड़ के एक छोटे से ग्राम हेमाद्री के स्मार्त ऋग्वेदी, वत्स गोत्री, शाकालशक्शी कर्हाड़े ब्राह्मण परिवार में जन्मे हेमाद्रिपंत को उनके पिता कामदेओ बहुत छोटी उम्र में महाराष्ट्र ले आये थे। हेमाद्रिपंत ने बहुत-सी धार्मिक पुस्तकें लिखीं जिनमे चतुर्वर्ग चिंतामणि है जिसमे हज़ारों व्रतों और उनके करने के विधान का वर्णन है। चिकित्सा के सम्बन्ध में इन्होने आयुर्वेद रहस्यम् पुस्तक लिखी जिसने हजारों बीमारियों और उनके निदान के बारे में लिखा गया है। इन्होने एक इतिहास विषयक पुस्तक भी लिखी जिसका नाम 'हेमाडपंती बखर' है। हेमाद्रिपंत ने प्रशासन और राजकीय कार्यो में एकरूपता लाने के लिए एक पुस्तक भी लिखी जिसमे राज-काज के दैनंदिन कार्यो की प्रक्रिया को विस्तार से निश्चित किया गया है। हेमाद्रिपंत ने मोडी लिपि को सरकारी पत्रव्यवहार की भाषा बनाया। गोंदेश्वर मंदिर, तुलजाभवानी मंदिर और अमृतेश्वर मंदिर को हेमाडपंथी वास्तुकारिता से बनाया गया है जिसका सृजन हेमाद्र्पंत ने किया था। हेमाद्रिपंत ने भारत में बाजरे के पौधे, जिसे कन्नड़ में सज्जे, तमिल में कम्बू, तेलुगु में सज्जालू, मराठी में बाजरी और उर्दू, पंजाबी या हिंदी में बाजरा कहा जाता है, को बहुत प्रोत्साहन दिया। महाराष्ट्र में महालक्ष्मी के पूजन को प्रोत्साहित और वैभवशाली बनाने में भी हेमाद्रिपंत का बहुत योगदान है। \n",
      "\n",
      "\n",
      "हेमाद्रिपंत के प्रधानमंत्रीत्व में यादवकुल का सूर्य अपने चरम पर था। चिकित्सा के सम्बन्ध में इन्होने आयुर्वेद रहस्यम् पुस्तक लिखी जिसने हजारों बीमारियों और उनके निदान के बारे में लिखा गया है। इन्होने एक इतिहास विषयक पुस्तक भी लिखी जिसका नाम 'हेमाडपंती बखर' है। हेमाद्रिपंत ने प्रशासन और राजकीय कार्यो में एकरूपता लाने के लिए एक पुस्तक भी लिखी जिसमे राज-काज के दैनंदिन कार्यो की प्रक्रिया को विस्तार से निश्चित किया गया है। \n"
     ]
    }
   ],
   "source": [
    "final, compare = getSummary(article, 'valid', sorted_words)\n",
    "print(compare)\n",
    "print(\"\\n\")\n",
    "print(final)"
   ]
  },
  {
   "cell_type": "code",
   "execution_count": null,
   "metadata": {},
   "outputs": [],
   "source": []
  }
 ],
 "metadata": {
  "kernelspec": {
   "display_name": "Python 3",
   "language": "python",
   "name": "python3"
  },
  "language_info": {
   "codemirror_mode": {
    "name": "ipython",
    "version": 3
   },
   "file_extension": ".py",
   "mimetype": "text/x-python",
   "name": "python",
   "nbconvert_exporter": "python",
   "pygments_lexer": "ipython3",
   "version": "3.6.9"
  }
 },
 "nbformat": 4,
 "nbformat_minor": 4
}
