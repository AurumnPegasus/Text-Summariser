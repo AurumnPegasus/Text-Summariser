{
 "cells": [
  {
   "cell_type": "code",
   "execution_count": 89,
   "metadata": {},
   "outputs": [],
   "source": [
    "import re\n",
    "import os\n",
    "import math"
   ]
  },
  {
   "cell_type": "code",
   "execution_count": 90,
   "metadata": {},
   "outputs": [
    {
     "name": "stdout",
     "output_type": "stream",
     "text": [
      "Enter the article name147996.txt\n"
     ]
    }
   ],
   "source": [
    "# global variables\n",
    "tf = {}\n",
    "article = input(\"Enter the article name\")"
   ]
  },
  {
   "cell_type": "code",
   "execution_count": 91,
   "metadata": {},
   "outputs": [],
   "source": [
    "def getStopWords():\n",
    "    stopwords = []\n",
    "    with open('stopwords.txt', 'r') as file:\n",
    "        for line in file:\n",
    "            for word in line.split(' '):\n",
    "                stopwords.append(word.strip())\n",
    "    return stopwords"
   ]
  },
  {
   "cell_type": "code",
   "execution_count": 92,
   "metadata": {},
   "outputs": [],
   "source": [
    "# extracting sentences from a given file\n",
    "def getSent(articleName, directory):\n",
    "    articleName = directory + '/' + articleName\n",
    "    f = open(articleName).read()\n",
    "    sentences = f.split('।')\n",
    "    return sentences"
   ]
  },
  {
   "cell_type": "code",
   "execution_count": 93,
   "metadata": {},
   "outputs": [],
   "source": [
    "# cleaning sentences (basic regex for now)\n",
    "def cleanSent(unclean):\n",
    "    clean = []\n",
    "    for sent in unclean:\n",
    "        sent = re.sub('\\\\n', '', sent)\n",
    "        sent = re.sub('[a-zA-z]', '', sent)\n",
    "        sent = sent.strip()\n",
    "        if len(sent) != 0:\n",
    "            clean.append(sent)\n",
    "    return clean"
   ]
  },
  {
   "cell_type": "code",
   "execution_count": 94,
   "metadata": {},
   "outputs": [],
   "source": [
    "# calculating tf of all words\n",
    "def prepTF(clean, doc):\n",
    "    global tf\n",
    "    for sent in clean:\n",
    "        words = sent.split(' ')\n",
    "        for word in words:\n",
    "            if (word, doc) in tf:\n",
    "                tf[(word, doc)] += 1\n",
    "            else:\n",
    "                tf[(word, doc)] = 1\n",
    "    return "
   ]
  },
  {
   "cell_type": "code",
   "execution_count": 95,
   "metadata": {},
   "outputs": [],
   "source": [
    "# repeating process for each article to get tf \n",
    "def eachArticle(directory):\n",
    "    documents = os.listdir(directory)\n",
    "    sorted(documents)\n",
    "    x = 0\n",
    "    for doc in documents:\n",
    "        unclean = getSent(doc, directory)\n",
    "        clean = cleanSent(unclean)\n",
    "        prepTF(clean, doc)"
   ]
  },
  {
   "cell_type": "code",
   "execution_count": 96,
   "metadata": {},
   "outputs": [],
   "source": [
    "eachArticle('valid')"
   ]
  },
  {
   "cell_type": "code",
   "execution_count": 97,
   "metadata": {},
   "outputs": [],
   "source": [
    "# calculating tfidf for a particular article\n",
    "def oneArticle(articleName, directory):\n",
    "    global tf\n",
    "    df = {}\n",
    "    unclean = getSent(articleName, directory)\n",
    "    clean = cleanSent(unclean)\n",
    "    documents = os.listdir(directory)    \n",
    "    for sent in clean:\n",
    "        words = sent.split(' ')\n",
    "        for word in words:\n",
    "            if word in df:\n",
    "                continue\n",
    "            for doc in documents:\n",
    "                if (word, doc) in tf:\n",
    "                    if word in df:\n",
    "                        df[word] += 1\n",
    "                    else:\n",
    "                        df[word] = 1            \n",
    "    idf = {}\n",
    "    for word in df:\n",
    "        if word not in idf:\n",
    "            idf[word] = math.log(len(documents)/(df[word] + 1))\n",
    "    \n",
    "    tfidf = {}\n",
    "    for word in idf:\n",
    "        if word not in tfidf:\n",
    "            tfidf[word] = tf[(word, articleName)] * idf[word]\n",
    "    \n",
    "    return tfidf"
   ]
  },
  {
   "cell_type": "code",
   "execution_count": 98,
   "metadata": {},
   "outputs": [],
   "source": [
    "tfidf = oneArticle(article, 'valid')"
   ]
  },
  {
   "cell_type": "code",
   "execution_count": 108,
   "metadata": {},
   "outputs": [],
   "source": [
    "# final summary according to highest tfidf of sentences\n",
    "def getSummary(articleName, directory, tfidf):\n",
    "    stopwords = getStopWords()\n",
    "    unclean = getSent(articleName, directory)\n",
    "    clean = cleanSent(unclean)\n",
    "    size = round(0.3 * len(clean))\n",
    "    sent_tfidf = {}\n",
    "    for sentI in range(0, len(clean)):\n",
    "        sent = clean[sentI]\n",
    "        words = sent.split(' ')\n",
    "        stfidf = 0\n",
    "        for word in words:\n",
    "            if word not in stopwords:\n",
    "                stfidf += tfidf[word]\n",
    "        sent_tfidf[sentI] = stfidf\n",
    "    sent_tfidf = sorted(sent_tfidf.items(), key = lambda kv:(kv[1], kv[0]), reverse=True)\n",
    "    sent_limit = []\n",
    "    for i in range(0, size):\n",
    "        sent_limit.append(sent_tfidf[i])\n",
    "    sent_limit = sorted(sent_limit)\n",
    "    summary = \"\"\n",
    "    actual = \"\"\n",
    "    print(sent_limit)\n",
    "    for i in sent_limit:\n",
    "        summary += clean[i[0]] + \" । \" \n",
    "    for i in range(0, len(clean)):\n",
    "        actual += clean[i] + \" । \"\n",
    "    return actual, summary"
   ]
  },
  {
   "cell_type": "code",
   "execution_count": 109,
   "metadata": {
    "scrolled": true
   },
   "outputs": [
    {
     "name": "stdout",
     "output_type": "stream",
     "text": [
      "[(2, 52.49931478918997), (5, 66.98871443784356), (6, 92.43827406742336), (14, 76.22330662074324), (17, 126.71106984123556), (18, 75.48568077388364)]\n",
      "रखाइन राज्य बर्मा के दक्षिण-पश्चिम में स्थित एक राज्य है । यह बंगाल की खाड़ी के साथ तटवर्ती है और पश्चिमोत्तर में बांग्लादेश से सीमावर्ती है । यह बंगाल की खाड़ी के पूर्वी तट पर चटगांव से नेग्रेस अंतरीप तक विस्तृत है । इस प्रदेश का प्रधान नगर अकयाब है । प्रांत चार जिलों में विभक्त है । चार मुख्य नदियाँ नाफ, मायू, कलदन और लेमरो हैं । कलदन गहरी है और इसमें छोटे जहाज 50 मील भीतर तक जा सकते हैं अन्य नदियाँ बहुत छोटी हैं, क्योंकि वे पहाड़ जिनसे ये निकली हैं, समुद्र के निकट हैं । पर्वत को पार करने के लिए कई दर्रे हैं । प्रदेश पहाड़ी है और केवल दशम भूभाग में खेती हो पाती है । मुख्य फसल धान है । फल, तंबाकू, मिरचा आदि भी उत्पन्न किए जाते हैं । जंगल भी हैं, परंतु वर्षा इतनी अधिक होती है कि सागवान यहाँ नहीं हो पाता । अराकानवासियों की सभ्यता अति प्राचीन है । लोकोक्ति के अनुसार 2,666 ई. पू. से आज तक के सभी राजाओं के नाम ज्ञात हैं । कभी मुगल और कभी पुर्तगाली लोगों ने कुछ भागों पर अधिकार जमा लिया था, परंतु वे शीघ्र ही मार भगाए गए । सन्‌ 1826 से यहाँ अंग्रेजी राज्य रहा । जनवरी, सन्‌ 1948 से म्यांमार पुन: स्वतंत्र हो गया और अब वहाँ गणतंत्र राज्य है । अराकान का प्रधान नगर पहले अराकान था, परंतु अस्वास्थ्यप्रद होने के कारण अब अकयाब प्रधान नगर हो गया है । अराकाननिवासियों की देशी भाषा और रस्मरिवाजों में अन्य बरमानिवासियों से पर्याप्त भिन्नता है, परंतु ये भी बौद्धधर्म के ही अनुयायी हैं । \n",
      "\n",
      "\n",
      "यह बंगाल की खाड़ी के पूर्वी तट पर चटगांव से नेग्रेस अंतरीप तक विस्तृत है । चार मुख्य नदियाँ नाफ, मायू, कलदन और लेमरो हैं । कलदन गहरी है और इसमें छोटे जहाज 50 मील भीतर तक जा सकते हैं अन्य नदियाँ बहुत छोटी हैं, क्योंकि वे पहाड़ जिनसे ये निकली हैं, समुद्र के निकट हैं । कभी मुगल और कभी पुर्तगाली लोगों ने कुछ भागों पर अधिकार जमा लिया था, परंतु वे शीघ्र ही मार भगाए गए । अराकान का प्रधान नगर पहले अराकान था, परंतु अस्वास्थ्यप्रद होने के कारण अब अकयाब प्रधान नगर हो गया है । अराकाननिवासियों की देशी भाषा और रस्मरिवाजों में अन्य बरमानिवासियों से पर्याप्त भिन्नता है, परंतु ये भी बौद्धधर्म के ही अनुयायी हैं । \n"
     ]
    }
   ],
   "source": [
    "actual, summary = getSummary(article, 'valid', tfidf)\n",
    "print(actual)\n",
    "print(\"\\n\")\n",
    "print(summary)"
   ]
  },
  {
   "cell_type": "code",
   "execution_count": null,
   "metadata": {},
   "outputs": [],
   "source": []
  }
 ],
 "metadata": {
  "kernelspec": {
   "display_name": "Python 3",
   "language": "python",
   "name": "python3"
  },
  "language_info": {
   "codemirror_mode": {
    "name": "ipython",
    "version": 3
   },
   "file_extension": ".py",
   "mimetype": "text/x-python",
   "name": "python",
   "nbconvert_exporter": "python",
   "pygments_lexer": "ipython3",
   "version": "3.6.9"
  }
 },
 "nbformat": 4,
 "nbformat_minor": 4
}
